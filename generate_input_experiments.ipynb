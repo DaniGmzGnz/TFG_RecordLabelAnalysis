{
 "cells": [
  {
   "cell_type": "code",
   "execution_count": 31,
   "metadata": {},
   "outputs": [],
   "source": [
    "import pandas as pd\n",
    "import os"
   ]
  },
  {
   "cell_type": "code",
   "execution_count": 43,
   "metadata": {},
   "outputs": [
    {
     "name": "stderr",
     "output_type": "stream",
     "text": [
      "C:\\Users\\Usuario\\AppData\\Local\\Temp\\ipykernel_22232\\1523973067.py:3: FutureWarning: The error_bad_lines argument has been deprecated and will be removed in a future version. Use on_bad_lines in the future.\n",
      "\n",
      "\n",
      "  df = pd.read_csv(path_dataset, sep=',', error_bad_lines=False, warn_bad_lines=False)\n",
      "C:\\Users\\Usuario\\AppData\\Local\\Temp\\ipykernel_22232\\1523973067.py:3: FutureWarning: The warn_bad_lines argument has been deprecated and will be removed in a future version. Use on_bad_lines in the future.\n",
      "\n",
      "\n",
      "  df = pd.read_csv(path_dataset, sep=',', error_bad_lines=False, warn_bad_lines=False)\n"
     ]
    },
    {
     "data": {
      "text/html": [
       "<div>\n",
       "<style scoped>\n",
       "    .dataframe tbody tr th:only-of-type {\n",
       "        vertical-align: middle;\n",
       "    }\n",
       "\n",
       "    .dataframe tbody tr th {\n",
       "        vertical-align: top;\n",
       "    }\n",
       "\n",
       "    .dataframe thead th {\n",
       "        text-align: right;\n",
       "    }\n",
       "</style>\n",
       "<table border=\"1\" class=\"dataframe\">\n",
       "  <thead>\n",
       "    <tr style=\"text-align: right;\">\n",
       "      <th></th>\n",
       "      <th>user_id</th>\n",
       "      <th>artistname</th>\n",
       "      <th>trackname</th>\n",
       "      <th>playlistname</th>\n",
       "    </tr>\n",
       "  </thead>\n",
       "  <tbody>\n",
       "    <tr>\n",
       "      <th>0</th>\n",
       "      <td>9cc0cfd4d7d7885102480dd99e7a90d6</td>\n",
       "      <td>Elvis Costello</td>\n",
       "      <td>(the angels wanna wear my) red shoes</td>\n",
       "      <td>HARD ROCK 2010</td>\n",
       "    </tr>\n",
       "    <tr>\n",
       "      <th>1</th>\n",
       "      <td>9cc0cfd4d7d7885102480dd99e7a90d6</td>\n",
       "      <td>Elvis Costello &amp; The Attractions</td>\n",
       "      <td>(what's so funny 'bout) peace, love and unders...</td>\n",
       "      <td>HARD ROCK 2010</td>\n",
       "    </tr>\n",
       "    <tr>\n",
       "      <th>2</th>\n",
       "      <td>9cc0cfd4d7d7885102480dd99e7a90d6</td>\n",
       "      <td>Tiffany Page</td>\n",
       "      <td>7 years too late</td>\n",
       "      <td>HARD ROCK 2010</td>\n",
       "    </tr>\n",
       "    <tr>\n",
       "      <th>3</th>\n",
       "      <td>9cc0cfd4d7d7885102480dd99e7a90d6</td>\n",
       "      <td>Elvis Costello &amp; The Attractions</td>\n",
       "      <td>accidents will happen</td>\n",
       "      <td>HARD ROCK 2010</td>\n",
       "    </tr>\n",
       "    <tr>\n",
       "      <th>4</th>\n",
       "      <td>9cc0cfd4d7d7885102480dd99e7a90d6</td>\n",
       "      <td>Elvis Costello</td>\n",
       "      <td>alison</td>\n",
       "      <td>HARD ROCK 2010</td>\n",
       "    </tr>\n",
       "  </tbody>\n",
       "</table>\n",
       "</div>"
      ],
      "text/plain": [
       "                            user_id                        artistname  \\\n",
       "0  9cc0cfd4d7d7885102480dd99e7a90d6                    Elvis Costello   \n",
       "1  9cc0cfd4d7d7885102480dd99e7a90d6  Elvis Costello & The Attractions   \n",
       "2  9cc0cfd4d7d7885102480dd99e7a90d6                      Tiffany Page   \n",
       "3  9cc0cfd4d7d7885102480dd99e7a90d6  Elvis Costello & The Attractions   \n",
       "4  9cc0cfd4d7d7885102480dd99e7a90d6                    Elvis Costello   \n",
       "\n",
       "                                           trackname    playlistname  \n",
       "0               (the angels wanna wear my) red shoes  HARD ROCK 2010  \n",
       "1  (what's so funny 'bout) peace, love and unders...  HARD ROCK 2010  \n",
       "2                                   7 years too late  HARD ROCK 2010  \n",
       "3                              accidents will happen  HARD ROCK 2010  \n",
       "4                                             alison  HARD ROCK 2010  "
      ]
     },
     "execution_count": 43,
     "metadata": {},
     "output_type": "execute_result"
    }
   ],
   "source": [
    "# Read SP dataset\n",
    "path_dataset = os.path.expanduser(os.getcwd()[:-20]+'MT_label_crawler-main/data/spotify_playlists/spotify_dataset.csv')\n",
    "df = pd.read_csv(path_dataset, sep=',', error_bad_lines=False, warn_bad_lines=False)\n",
    "df.columns = ['user_id', 'artistname', 'trackname', 'playlistname']\n",
    "df[\"trackname\"] = df[\"trackname\"].astype(str)\n",
    "df[\"trackname\"] = df[\"trackname\"].str.lower()\n",
    "df.head()"
   ]
  },
  {
   "cell_type": "code",
   "execution_count": 70,
   "metadata": {},
   "outputs": [
    {
     "name": "stderr",
     "output_type": "stream",
     "text": [
      "C:\\Users\\Usuario\\AppData\\Local\\Temp\\ipykernel_22232\\3199029071.py:3: FutureWarning: The error_bad_lines argument has been deprecated and will be removed in a future version. Use on_bad_lines in the future.\n",
      "\n",
      "\n",
      "  df = pd.read_csv(path_dataset, sep='\\t', error_bad_lines=False)\n"
     ]
    },
    {
     "data": {
      "text/html": [
       "<div>\n",
       "<style scoped>\n",
       "    .dataframe tbody tr th:only-of-type {\n",
       "        vertical-align: middle;\n",
       "    }\n",
       "\n",
       "    .dataframe tbody tr th {\n",
       "        vertical-align: top;\n",
       "    }\n",
       "\n",
       "    .dataframe thead th {\n",
       "        text-align: right;\n",
       "    }\n",
       "</style>\n",
       "<table border=\"1\" class=\"dataframe\">\n",
       "  <thead>\n",
       "    <tr style=\"text-align: right;\">\n",
       "      <th></th>\n",
       "      <th>user_id</th>\n",
       "      <th>artistname</th>\n",
       "      <th>trackname</th>\n",
       "    </tr>\n",
       "  </thead>\n",
       "  <tbody>\n",
       "    <tr>\n",
       "      <th>0</th>\n",
       "      <td>24842995</td>\n",
       "      <td>Anonymous 4</td>\n",
       "      <td>agnus dei</td>\n",
       "    </tr>\n",
       "    <tr>\n",
       "      <th>1</th>\n",
       "      <td>77147006</td>\n",
       "      <td>Drake</td>\n",
       "      <td>find your love</td>\n",
       "    </tr>\n",
       "    <tr>\n",
       "      <th>2</th>\n",
       "      <td>174626103</td>\n",
       "      <td>Van Morrison</td>\n",
       "      <td>hey mr dj</td>\n",
       "    </tr>\n",
       "    <tr>\n",
       "      <th>3</th>\n",
       "      <td>538669914</td>\n",
       "      <td>Carly Rae Jepsen</td>\n",
       "      <td>call me maybe</td>\n",
       "    </tr>\n",
       "    <tr>\n",
       "      <th>4</th>\n",
       "      <td>245555020</td>\n",
       "      <td>Justin Timberlake</td>\n",
       "      <td>4 minutes</td>\n",
       "    </tr>\n",
       "  </tbody>\n",
       "</table>\n",
       "</div>"
      ],
      "text/plain": [
       "     user_id         artistname       trackname\n",
       "0   24842995        Anonymous 4       agnus dei\n",
       "1   77147006              Drake  find your love\n",
       "2  174626103       Van Morrison       hey mr dj\n",
       "3  538669914   Carly Rae Jepsen   call me maybe\n",
       "4  245555020  Justin Timberlake       4 minutes"
      ]
     },
     "execution_count": 70,
     "metadata": {},
     "output_type": "execute_result"
    }
   ],
   "source": [
    "# Read MMTD dataset\n",
    "path_dataset = os.path.expanduser(os.getcwd()[:-20]+'MT_label_crawler-main/data/mmtd/mmtd.txt')\n",
    "df = pd.read_csv(path_dataset, sep='\\t', error_bad_lines=False)\n",
    "df = df[['tweet_userId','artist_name','track_title']]\n",
    "df.columns = ['user_id','artistname', 'trackname']\n",
    "df[\"trackname\"] = df[\"trackname\"].astype(str)\n",
    "df[\"trackname\"] = df[\"trackname\"].str.lower()\n",
    "df.head()"
   ]
  },
  {
   "cell_type": "code",
   "execution_count": 71,
   "metadata": {},
   "outputs": [
    {
     "data": {
      "text/plain": [
       "1090726"
      ]
     },
     "execution_count": 71,
     "metadata": {},
     "output_type": "execute_result"
    }
   ],
   "source": [
    "len(df)"
   ]
  },
  {
   "cell_type": "code",
   "execution_count": 72,
   "metadata": {},
   "outputs": [
    {
     "name": "stderr",
     "output_type": "stream",
     "text": [
      "C:\\Users\\Usuario\\AppData\\Local\\Temp\\ipykernel_22232\\148732023.py:3: FutureWarning: The error_bad_lines argument has been deprecated and will be removed in a future version. Use on_bad_lines in the future.\n",
      "\n",
      "\n",
      "  df_map = pd.read_csv(path_crawling, sep=',', error_bad_lines=False)\n"
     ]
    },
    {
     "data": {
      "text/html": [
       "<div>\n",
       "<style scoped>\n",
       "    .dataframe tbody tr th:only-of-type {\n",
       "        vertical-align: middle;\n",
       "    }\n",
       "\n",
       "    .dataframe tbody tr th {\n",
       "        vertical-align: top;\n",
       "    }\n",
       "\n",
       "    .dataframe thead th {\n",
       "        text-align: right;\n",
       "    }\n",
       "</style>\n",
       "<table border=\"1\" class=\"dataframe\">\n",
       "  <thead>\n",
       "    <tr style=\"text-align: right;\">\n",
       "      <th></th>\n",
       "      <th>trackname</th>\n",
       "      <th>album</th>\n",
       "      <th>album_uri</th>\n",
       "      <th>occurrences</th>\n",
       "      <th>record_label_low</th>\n",
       "      <th>copyright_p</th>\n",
       "      <th>copyright_c</th>\n",
       "      <th>record_label_major</th>\n",
       "    </tr>\n",
       "  </thead>\n",
       "  <tbody>\n",
       "    <tr>\n",
       "      <th>0</th>\n",
       "      <td>someone like you</td>\n",
       "      <td>21</td>\n",
       "      <td>spotify:album:0Lg1uZvI312TPqxNWShFXL</td>\n",
       "      <td>4387</td>\n",
       "      <td>XL Recordings</td>\n",
       "      <td>2011 XL Recordings Ltd</td>\n",
       "      <td>2011 XL Recordings Ltd</td>\n",
       "      <td>Universal Music Group</td>\n",
       "    </tr>\n",
       "    <tr>\n",
       "      <th>1</th>\n",
       "      <td>paradise</td>\n",
       "      <td>Mylo Xyloto</td>\n",
       "      <td>spotify:album:2R7iJz5uaHjLEVnMkloO18</td>\n",
       "      <td>3331</td>\n",
       "      <td>Parlophone UK</td>\n",
       "      <td>2011 Parlophone Records Ltd, a Warner Music G...</td>\n",
       "      <td>2011 Parlophone Records Ltd, a Warner Music G...</td>\n",
       "      <td>Warner Records</td>\n",
       "    </tr>\n",
       "    <tr>\n",
       "      <th>2</th>\n",
       "      <td>somebody that i used to know</td>\n",
       "      <td>Making Mirrors</td>\n",
       "      <td>spotify:album:1HjSyGjmLNjRAKgT9t1cna</td>\n",
       "      <td>2742</td>\n",
       "      <td>Samples &amp; Seconds / Republic</td>\n",
       "      <td>2011 Samples 'N' Seconds Records Pty Ltd, und...</td>\n",
       "      <td>2011 Samples 'N' Seconds Records Pty Ltd, und...</td>\n",
       "      <td>Universal Music Group</td>\n",
       "    </tr>\n",
       "    <tr>\n",
       "      <th>3</th>\n",
       "      <td>levels</td>\n",
       "      <td>Levels</td>\n",
       "      <td>spotify:album:1OEGfToF7QbjUgyxMAnGXg</td>\n",
       "      <td>2568</td>\n",
       "      <td>Universal Music AB</td>\n",
       "      <td>2011 Avicii Music AB, Under exclusive license...</td>\n",
       "      <td>2011 Avicii Music AB, Under exclusive license...</td>\n",
       "      <td>Universal Music Group</td>\n",
       "    </tr>\n",
       "    <tr>\n",
       "      <th>4</th>\n",
       "      <td>set fire to the rain</td>\n",
       "      <td>21</td>\n",
       "      <td>spotify:album:0Lg1uZvI312TPqxNWShFXL</td>\n",
       "      <td>2543</td>\n",
       "      <td>XL Recordings</td>\n",
       "      <td>2011 XL Recordings Ltd</td>\n",
       "      <td>2011 XL Recordings Ltd</td>\n",
       "      <td>Universal Music Group</td>\n",
       "    </tr>\n",
       "  </tbody>\n",
       "</table>\n",
       "</div>"
      ],
      "text/plain": [
       "                      trackname           album  \\\n",
       "0              someone like you              21   \n",
       "1                      paradise     Mylo Xyloto   \n",
       "2  somebody that i used to know  Making Mirrors   \n",
       "3                        levels          Levels   \n",
       "4          set fire to the rain              21   \n",
       "\n",
       "                              album_uri  occurrences  \\\n",
       "0  spotify:album:0Lg1uZvI312TPqxNWShFXL         4387   \n",
       "1  spotify:album:2R7iJz5uaHjLEVnMkloO18         3331   \n",
       "2  spotify:album:1HjSyGjmLNjRAKgT9t1cna         2742   \n",
       "3  spotify:album:1OEGfToF7QbjUgyxMAnGXg         2568   \n",
       "4  spotify:album:0Lg1uZvI312TPqxNWShFXL         2543   \n",
       "\n",
       "               record_label_low  \\\n",
       "0                 XL Recordings   \n",
       "1                 Parlophone UK   \n",
       "2  Samples & Seconds / Republic   \n",
       "3            Universal Music AB   \n",
       "4                 XL Recordings   \n",
       "\n",
       "                                         copyright_p  \\\n",
       "0                             2011 XL Recordings Ltd   \n",
       "1   2011 Parlophone Records Ltd, a Warner Music G...   \n",
       "2   2011 Samples 'N' Seconds Records Pty Ltd, und...   \n",
       "3   2011 Avicii Music AB, Under exclusive license...   \n",
       "4                             2011 XL Recordings Ltd   \n",
       "\n",
       "                                         copyright_c     record_label_major  \n",
       "0                             2011 XL Recordings Ltd  Universal Music Group  \n",
       "1   2011 Parlophone Records Ltd, a Warner Music G...         Warner Records  \n",
       "2   2011 Samples 'N' Seconds Records Pty Ltd, und...  Universal Music Group  \n",
       "3   2011 Avicii Music AB, Under exclusive license...  Universal Music Group  \n",
       "4                             2011 XL Recordings Ltd  Universal Music Group  "
      ]
     },
     "execution_count": 72,
     "metadata": {},
     "output_type": "execute_result"
    }
   ],
   "source": [
    "# Read final mapping of the dataset.\n",
    "path_crawling = os.path.expanduser(os.getcwd()[:-20]+'MT_label_crawler-main/data/generated/mmtd/final_sorted_album_uris_enriched_mmtd.csv')\n",
    "df_map = pd.read_csv(path_crawling, sep=',', error_bad_lines=False)\n",
    "df_map[\"trackname\"] = df_map[\"trackname\"].astype(str)\n",
    "df_map[\"trackname\"] = df_map[\"trackname\"].str.lower()\n",
    "df_map.head()"
   ]
  },
  {
   "cell_type": "code",
   "execution_count": 73,
   "metadata": {},
   "outputs": [
    {
     "data": {
      "text/plain": [
       "127220"
      ]
     },
     "execution_count": 73,
     "metadata": {},
     "output_type": "execute_result"
    }
   ],
   "source": [
    "len(df_map)"
   ]
  },
  {
   "cell_type": "code",
   "execution_count": 74,
   "metadata": {},
   "outputs": [
    {
     "data": {
      "text/plain": [
       "89587"
      ]
     },
     "execution_count": 74,
     "metadata": {},
     "output_type": "execute_result"
    }
   ],
   "source": [
    "df_map['trackname'].nunique() "
   ]
  },
  {
   "cell_type": "code",
   "execution_count": 75,
   "metadata": {},
   "outputs": [
    {
     "data": {
      "text/plain": [
       "89587"
      ]
     },
     "execution_count": 75,
     "metadata": {},
     "output_type": "execute_result"
    }
   ],
   "source": [
    "df_map_no_duplicates = df_map.drop_duplicates(['trackname'])\n",
    "len(df_map_no_duplicates)"
   ]
  },
  {
   "cell_type": "code",
   "execution_count": 76,
   "metadata": {},
   "outputs": [
    {
     "data": {
      "text/html": [
       "<div>\n",
       "<style scoped>\n",
       "    .dataframe tbody tr th:only-of-type {\n",
       "        vertical-align: middle;\n",
       "    }\n",
       "\n",
       "    .dataframe tbody tr th {\n",
       "        vertical-align: top;\n",
       "    }\n",
       "\n",
       "    .dataframe thead th {\n",
       "        text-align: right;\n",
       "    }\n",
       "</style>\n",
       "<table border=\"1\" class=\"dataframe\">\n",
       "  <thead>\n",
       "    <tr style=\"text-align: right;\">\n",
       "      <th></th>\n",
       "      <th>user_id</th>\n",
       "      <th>artistname</th>\n",
       "      <th>trackname</th>\n",
       "      <th>album</th>\n",
       "      <th>album_uri</th>\n",
       "      <th>occurrences</th>\n",
       "      <th>record_label_low</th>\n",
       "      <th>copyright_p</th>\n",
       "      <th>copyright_c</th>\n",
       "      <th>record_label_major</th>\n",
       "      <th>_merge</th>\n",
       "    </tr>\n",
       "  </thead>\n",
       "  <tbody>\n",
       "    <tr>\n",
       "      <th>0</th>\n",
       "      <td>24842995</td>\n",
       "      <td>Anonymous 4</td>\n",
       "      <td>agnus dei</td>\n",
       "      <td>Agnus Dei</td>\n",
       "      <td>spotify:album:6xq040ODRY5XXgZJzN4xWU</td>\n",
       "      <td>4.0</td>\n",
       "      <td>Piano Music</td>\n",
       "      <td>2023 Piano Music</td>\n",
       "      <td>2023 Piano Music</td>\n",
       "      <td>Independent</td>\n",
       "      <td>both</td>\n",
       "    </tr>\n",
       "    <tr>\n",
       "      <th>1</th>\n",
       "      <td>77147006</td>\n",
       "      <td>Drake</td>\n",
       "      <td>find your love</td>\n",
       "      <td>Thank Me Later</td>\n",
       "      <td>spotify:album:6jlrjFR9mJV3jd1IPSplXU</td>\n",
       "      <td>283.0</td>\n",
       "      <td>Aspire Music Group, LLC</td>\n",
       "      <td>2010 Young Money Entertainment/Cash Money Rec...</td>\n",
       "      <td>2010 Young Money Entertainment/Cash Money Rec...</td>\n",
       "      <td>Universal Music Group</td>\n",
       "      <td>both</td>\n",
       "    </tr>\n",
       "    <tr>\n",
       "      <th>2</th>\n",
       "      <td>174626103</td>\n",
       "      <td>Van Morrison</td>\n",
       "      <td>hey mr dj</td>\n",
       "      <td>Pronounced Jah-Nay</td>\n",
       "      <td>spotify:album:4Rj3sxQFk2chQQqfad4siz</td>\n",
       "      <td>5.0</td>\n",
       "      <td>Motown</td>\n",
       "      <td>1994 Motown Records, a Division of UMG Record...</td>\n",
       "      <td>1994 Motown Records, a Division of UMG Record...</td>\n",
       "      <td>Universal Music Group</td>\n",
       "      <td>both</td>\n",
       "    </tr>\n",
       "    <tr>\n",
       "      <th>3</th>\n",
       "      <td>538669914</td>\n",
       "      <td>Carly Rae Jepsen</td>\n",
       "      <td>call me maybe</td>\n",
       "      <td>Kiss (Deluxe)</td>\n",
       "      <td>spotify:album:29blfJv8AddJrjuG3DpE13</td>\n",
       "      <td>1993.0</td>\n",
       "      <td>Silent Records IGA</td>\n",
       "      <td>2012 School Boy/Interscope Records</td>\n",
       "      <td>2012 School Boy/Interscope Records</td>\n",
       "      <td>Universal Music Group</td>\n",
       "      <td>both</td>\n",
       "    </tr>\n",
       "    <tr>\n",
       "      <th>4</th>\n",
       "      <td>245555020</td>\n",
       "      <td>Justin Timberlake</td>\n",
       "      <td>4 minutes</td>\n",
       "      <td>Celebration (double disc version)</td>\n",
       "      <td>spotify:album:43lok9zd7BW5CoYkXZs7S0</td>\n",
       "      <td>68.0</td>\n",
       "      <td>Warner Records</td>\n",
       "      <td>2009 This Compilation P2009 Warner Records Inc.</td>\n",
       "      <td>2009 Warner Records Inc.</td>\n",
       "      <td>Warner Records</td>\n",
       "      <td>both</td>\n",
       "    </tr>\n",
       "  </tbody>\n",
       "</table>\n",
       "</div>"
      ],
      "text/plain": [
       "     user_id         artistname       trackname  \\\n",
       "0   24842995        Anonymous 4       agnus dei   \n",
       "1   77147006              Drake  find your love   \n",
       "2  174626103       Van Morrison       hey mr dj   \n",
       "3  538669914   Carly Rae Jepsen   call me maybe   \n",
       "4  245555020  Justin Timberlake       4 minutes   \n",
       "\n",
       "                               album                             album_uri  \\\n",
       "0                          Agnus Dei  spotify:album:6xq040ODRY5XXgZJzN4xWU   \n",
       "1                     Thank Me Later  spotify:album:6jlrjFR9mJV3jd1IPSplXU   \n",
       "2                 Pronounced Jah-Nay  spotify:album:4Rj3sxQFk2chQQqfad4siz   \n",
       "3                      Kiss (Deluxe)  spotify:album:29blfJv8AddJrjuG3DpE13   \n",
       "4  Celebration (double disc version)  spotify:album:43lok9zd7BW5CoYkXZs7S0   \n",
       "\n",
       "   occurrences         record_label_low  \\\n",
       "0          4.0              Piano Music   \n",
       "1        283.0  Aspire Music Group, LLC   \n",
       "2          5.0                   Motown   \n",
       "3       1993.0       Silent Records IGA   \n",
       "4         68.0           Warner Records   \n",
       "\n",
       "                                         copyright_p  \\\n",
       "0                                   2023 Piano Music   \n",
       "1   2010 Young Money Entertainment/Cash Money Rec...   \n",
       "2   1994 Motown Records, a Division of UMG Record...   \n",
       "3                 2012 School Boy/Interscope Records   \n",
       "4    2009 This Compilation P2009 Warner Records Inc.   \n",
       "\n",
       "                                         copyright_c     record_label_major  \\\n",
       "0                                   2023 Piano Music            Independent   \n",
       "1   2010 Young Money Entertainment/Cash Money Rec...  Universal Music Group   \n",
       "2   1994 Motown Records, a Division of UMG Record...  Universal Music Group   \n",
       "3                 2012 School Boy/Interscope Records  Universal Music Group   \n",
       "4                           2009 Warner Records Inc.         Warner Records   \n",
       "\n",
       "  _merge  \n",
       "0   both  \n",
       "1   both  \n",
       "2   both  \n",
       "3   both  \n",
       "4   both  "
      ]
     },
     "execution_count": 76,
     "metadata": {},
     "output_type": "execute_result"
    }
   ],
   "source": [
    "# Match user listening behaviour with the record label info of each song.\n",
    "df_merged = df.merge(df_map_no_duplicates, on=['trackname'], how='left', indicator=True)\n",
    "df_merged.head()"
   ]
  },
  {
   "cell_type": "code",
   "execution_count": 77,
   "metadata": {},
   "outputs": [
    {
     "data": {
      "text/plain": [
       "1090726"
      ]
     },
     "execution_count": 77,
     "metadata": {},
     "output_type": "execute_result"
    }
   ],
   "source": [
    "len(df_merged)"
   ]
  },
  {
   "cell_type": "code",
   "execution_count": 78,
   "metadata": {},
   "outputs": [
    {
     "data": {
      "text/plain": [
       "both          1090094\n",
       "left_only         632\n",
       "right_only          0\n",
       "Name: _merge, dtype: int64"
      ]
     },
     "execution_count": 78,
     "metadata": {},
     "output_type": "execute_result"
    }
   ],
   "source": [
    "df_merged['_merge'].value_counts()"
   ]
  },
  {
   "cell_type": "code",
   "execution_count": 79,
   "metadata": {},
   "outputs": [],
   "source": [
    "df_merged.to_csv(\"input_exp_enriched_mmtd.csv\", index=False)"
   ]
  },
  {
   "cell_type": "code",
   "execution_count": null,
   "metadata": {},
   "outputs": [],
   "source": [
    "df_merged[['user_id','trackname','record_label_major']].to_csv(\"input_exp_mmtd.csv\", index=False)"
   ]
  }
 ],
 "metadata": {
  "kernelspec": {
   "display_name": "Python 3",
   "language": "python",
   "name": "python3"
  },
  "language_info": {
   "codemirror_mode": {
    "name": "ipython",
    "version": 3
   },
   "file_extension": ".py",
   "mimetype": "text/x-python",
   "name": "python",
   "nbconvert_exporter": "python",
   "pygments_lexer": "ipython3",
   "version": "3.10.8"
  },
  "orig_nbformat": 4
 },
 "nbformat": 4,
 "nbformat_minor": 2
}
